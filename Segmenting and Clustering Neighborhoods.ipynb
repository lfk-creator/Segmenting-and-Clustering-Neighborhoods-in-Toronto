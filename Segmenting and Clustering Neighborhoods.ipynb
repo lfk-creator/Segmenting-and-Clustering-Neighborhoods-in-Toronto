{
    "cells": [
        {
            "metadata": {},
            "cell_type": "code",
            "source": "import pandas as pd\nimport requests\nfrom bs4 import BeautifulSoup\n\nres = requests.get(\"https://en.wikipedia.org/wiki/List_of_postal_codes_of_Canada:_M\")",
            "execution_count": 23,
            "outputs": []
        },
        {
            "metadata": {},
            "cell_type": "code",
            "source": "soup = BeautifulSoup(res.content,'lxml')\ntable = soup.find_all('table')[0] \ndf = pd.read_html(str(table))[0]\n\n\ndf = df[df.Borough != 'Not assigned'] # Drop not assigned\ndf.reset_index(inplace = True, drop = True)\n\n\ndf.loc[df['Neighbourhood'] == \"Not assigned\",'Neighbourhood'] = df['Borough'] # Not assigned neighborhood, make it same as borough\n\n\ndf_toronto_2 = df.groupby(by=['Postcode','Borough']).agg(lambda tags: ', '.join(tags)) # Group by postal code \ndf_toronto_2.reset_index(level=['Postcode','Borough'], inplace=True)\n\ndf.head(50)\n",
            "execution_count": 27,
            "outputs": [
                {
                    "output_type": "execute_result",
                    "execution_count": 27,
                    "data": {
                        "text/plain": "   Postcode           Borough        Neighbourhood\n0       M3A        North York            Parkwoods\n1       M4A        North York     Victoria Village\n2       M5A  Downtown Toronto         Harbourfront\n3       M6A        North York     Lawrence Heights\n4       M6A        North York       Lawrence Manor\n5       M7A  Downtown Toronto         Queen's Park\n6       M9A      Queen's Park         Queen's Park\n7       M1B       Scarborough                Rouge\n8       M1B       Scarborough              Malvern\n9       M3B        North York      Don Mills North\n10      M4B         East York     Woodbine Gardens\n11      M4B         East York        Parkview Hill\n12      M5B  Downtown Toronto              Ryerson\n13      M5B  Downtown Toronto      Garden District\n14      M6B        North York            Glencairn\n15      M9B         Etobicoke           Cloverdale\n16      M9B         Etobicoke            Islington\n17      M9B         Etobicoke         Martin Grove\n18      M9B         Etobicoke     Princess Gardens\n19      M9B         Etobicoke      West Deane Park\n20      M1C       Scarborough       Highland Creek\n21      M1C       Scarborough           Rouge Hill\n22      M1C       Scarborough           Port Union\n23      M3C        North York      Flemingdon Park\n24      M3C        North York      Don Mills South\n25      M4C         East York     Woodbine Heights\n26      M5C  Downtown Toronto       St. James Town\n27      M6C              York   Humewood-Cedarvale\n28      M9C         Etobicoke    Bloordale Gardens\n29      M9C         Etobicoke             Eringate\n30      M9C         Etobicoke        Markland Wood\n31      M9C         Etobicoke    Old Burnhamthorpe\n32      M1E       Scarborough            Guildwood\n33      M1E       Scarborough          Morningside\n34      M1E       Scarborough            West Hill\n35      M4E      East Toronto          The Beaches\n36      M5E  Downtown Toronto          Berczy Park\n37      M6E              York  Caledonia-Fairbanks\n38      M1G       Scarborough               Woburn\n39      M4G         East York              Leaside\n40      M5G  Downtown Toronto   Central Bay Street\n41      M6G  Downtown Toronto             Christie\n42      M1H       Scarborough            Cedarbrae\n43      M2H        North York    Hillcrest Village\n44      M3H        North York       Bathurst Manor\n45      M3H        North York      Downsview North\n46      M3H        North York       Wilson Heights\n47      M4H         East York     Thorncliffe Park\n48      M5H  Downtown Toronto             Adelaide\n49      M5H  Downtown Toronto                 King",
                        "text/html": "<div>\n<style scoped>\n    .dataframe tbody tr th:only-of-type {\n        vertical-align: middle;\n    }\n\n    .dataframe tbody tr th {\n        vertical-align: top;\n    }\n\n    .dataframe thead th {\n        text-align: right;\n    }\n</style>\n<table border=\"1\" class=\"dataframe\">\n  <thead>\n    <tr style=\"text-align: right;\">\n      <th></th>\n      <th>Postcode</th>\n      <th>Borough</th>\n      <th>Neighbourhood</th>\n    </tr>\n  </thead>\n  <tbody>\n    <tr>\n      <th>0</th>\n      <td>M3A</td>\n      <td>North York</td>\n      <td>Parkwoods</td>\n    </tr>\n    <tr>\n      <th>1</th>\n      <td>M4A</td>\n      <td>North York</td>\n      <td>Victoria Village</td>\n    </tr>\n    <tr>\n      <th>2</th>\n      <td>M5A</td>\n      <td>Downtown Toronto</td>\n      <td>Harbourfront</td>\n    </tr>\n    <tr>\n      <th>3</th>\n      <td>M6A</td>\n      <td>North York</td>\n      <td>Lawrence Heights</td>\n    </tr>\n    <tr>\n      <th>4</th>\n      <td>M6A</td>\n      <td>North York</td>\n      <td>Lawrence Manor</td>\n    </tr>\n    <tr>\n      <th>5</th>\n      <td>M7A</td>\n      <td>Downtown Toronto</td>\n      <td>Queen's Park</td>\n    </tr>\n    <tr>\n      <th>6</th>\n      <td>M9A</td>\n      <td>Queen's Park</td>\n      <td>Queen's Park</td>\n    </tr>\n    <tr>\n      <th>7</th>\n      <td>M1B</td>\n      <td>Scarborough</td>\n      <td>Rouge</td>\n    </tr>\n    <tr>\n      <th>8</th>\n      <td>M1B</td>\n      <td>Scarborough</td>\n      <td>Malvern</td>\n    </tr>\n    <tr>\n      <th>9</th>\n      <td>M3B</td>\n      <td>North York</td>\n      <td>Don Mills North</td>\n    </tr>\n    <tr>\n      <th>10</th>\n      <td>M4B</td>\n      <td>East York</td>\n      <td>Woodbine Gardens</td>\n    </tr>\n    <tr>\n      <th>11</th>\n      <td>M4B</td>\n      <td>East York</td>\n      <td>Parkview Hill</td>\n    </tr>\n    <tr>\n      <th>12</th>\n      <td>M5B</td>\n      <td>Downtown Toronto</td>\n      <td>Ryerson</td>\n    </tr>\n    <tr>\n      <th>13</th>\n      <td>M5B</td>\n      <td>Downtown Toronto</td>\n      <td>Garden District</td>\n    </tr>\n    <tr>\n      <th>14</th>\n      <td>M6B</td>\n      <td>North York</td>\n      <td>Glencairn</td>\n    </tr>\n    <tr>\n      <th>15</th>\n      <td>M9B</td>\n      <td>Etobicoke</td>\n      <td>Cloverdale</td>\n    </tr>\n    <tr>\n      <th>16</th>\n      <td>M9B</td>\n      <td>Etobicoke</td>\n      <td>Islington</td>\n    </tr>\n    <tr>\n      <th>17</th>\n      <td>M9B</td>\n      <td>Etobicoke</td>\n      <td>Martin Grove</td>\n    </tr>\n    <tr>\n      <th>18</th>\n      <td>M9B</td>\n      <td>Etobicoke</td>\n      <td>Princess Gardens</td>\n    </tr>\n    <tr>\n      <th>19</th>\n      <td>M9B</td>\n      <td>Etobicoke</td>\n      <td>West Deane Park</td>\n    </tr>\n    <tr>\n      <th>20</th>\n      <td>M1C</td>\n      <td>Scarborough</td>\n      <td>Highland Creek</td>\n    </tr>\n    <tr>\n      <th>21</th>\n      <td>M1C</td>\n      <td>Scarborough</td>\n      <td>Rouge Hill</td>\n    </tr>\n    <tr>\n      <th>22</th>\n      <td>M1C</td>\n      <td>Scarborough</td>\n      <td>Port Union</td>\n    </tr>\n    <tr>\n      <th>23</th>\n      <td>M3C</td>\n      <td>North York</td>\n      <td>Flemingdon Park</td>\n    </tr>\n    <tr>\n      <th>24</th>\n      <td>M3C</td>\n      <td>North York</td>\n      <td>Don Mills South</td>\n    </tr>\n    <tr>\n      <th>25</th>\n      <td>M4C</td>\n      <td>East York</td>\n      <td>Woodbine Heights</td>\n    </tr>\n    <tr>\n      <th>26</th>\n      <td>M5C</td>\n      <td>Downtown Toronto</td>\n      <td>St. James Town</td>\n    </tr>\n    <tr>\n      <th>27</th>\n      <td>M6C</td>\n      <td>York</td>\n      <td>Humewood-Cedarvale</td>\n    </tr>\n    <tr>\n      <th>28</th>\n      <td>M9C</td>\n      <td>Etobicoke</td>\n      <td>Bloordale Gardens</td>\n    </tr>\n    <tr>\n      <th>29</th>\n      <td>M9C</td>\n      <td>Etobicoke</td>\n      <td>Eringate</td>\n    </tr>\n    <tr>\n      <th>30</th>\n      <td>M9C</td>\n      <td>Etobicoke</td>\n      <td>Markland Wood</td>\n    </tr>\n    <tr>\n      <th>31</th>\n      <td>M9C</td>\n      <td>Etobicoke</td>\n      <td>Old Burnhamthorpe</td>\n    </tr>\n    <tr>\n      <th>32</th>\n      <td>M1E</td>\n      <td>Scarborough</td>\n      <td>Guildwood</td>\n    </tr>\n    <tr>\n      <th>33</th>\n      <td>M1E</td>\n      <td>Scarborough</td>\n      <td>Morningside</td>\n    </tr>\n    <tr>\n      <th>34</th>\n      <td>M1E</td>\n      <td>Scarborough</td>\n      <td>West Hill</td>\n    </tr>\n    <tr>\n      <th>35</th>\n      <td>M4E</td>\n      <td>East Toronto</td>\n      <td>The Beaches</td>\n    </tr>\n    <tr>\n      <th>36</th>\n      <td>M5E</td>\n      <td>Downtown Toronto</td>\n      <td>Berczy Park</td>\n    </tr>\n    <tr>\n      <th>37</th>\n      <td>M6E</td>\n      <td>York</td>\n      <td>Caledonia-Fairbanks</td>\n    </tr>\n    <tr>\n      <th>38</th>\n      <td>M1G</td>\n      <td>Scarborough</td>\n      <td>Woburn</td>\n    </tr>\n    <tr>\n      <th>39</th>\n      <td>M4G</td>\n      <td>East York</td>\n      <td>Leaside</td>\n    </tr>\n    <tr>\n      <th>40</th>\n      <td>M5G</td>\n      <td>Downtown Toronto</td>\n      <td>Central Bay Street</td>\n    </tr>\n    <tr>\n      <th>41</th>\n      <td>M6G</td>\n      <td>Downtown Toronto</td>\n      <td>Christie</td>\n    </tr>\n    <tr>\n      <th>42</th>\n      <td>M1H</td>\n      <td>Scarborough</td>\n      <td>Cedarbrae</td>\n    </tr>\n    <tr>\n      <th>43</th>\n      <td>M2H</td>\n      <td>North York</td>\n      <td>Hillcrest Village</td>\n    </tr>\n    <tr>\n      <th>44</th>\n      <td>M3H</td>\n      <td>North York</td>\n      <td>Bathurst Manor</td>\n    </tr>\n    <tr>\n      <th>45</th>\n      <td>M3H</td>\n      <td>North York</td>\n      <td>Downsview North</td>\n    </tr>\n    <tr>\n      <th>46</th>\n      <td>M3H</td>\n      <td>North York</td>\n      <td>Wilson Heights</td>\n    </tr>\n    <tr>\n      <th>47</th>\n      <td>M4H</td>\n      <td>East York</td>\n      <td>Thorncliffe Park</td>\n    </tr>\n    <tr>\n      <th>48</th>\n      <td>M5H</td>\n      <td>Downtown Toronto</td>\n      <td>Adelaide</td>\n    </tr>\n    <tr>\n      <th>49</th>\n      <td>M5H</td>\n      <td>Downtown Toronto</td>\n      <td>King</td>\n    </tr>\n  </tbody>\n</table>\n</div>"
                    },
                    "metadata": {}
                }
            ]
        },
        {
            "metadata": {},
            "cell_type": "code",
            "source": "",
            "execution_count": null,
            "outputs": []
        },
        {
            "metadata": {},
            "cell_type": "code",
            "source": "",
            "execution_count": null,
            "outputs": []
        }
    ],
    "metadata": {
        "kernelspec": {
            "name": "python3",
            "display_name": "Python 3.6",
            "language": "python"
        },
        "language_info": {
            "name": "python",
            "version": "3.6.9",
            "mimetype": "text/x-python",
            "codemirror_mode": {
                "name": "ipython",
                "version": 3
            },
            "pygments_lexer": "ipython3",
            "nbconvert_exporter": "python",
            "file_extension": ".py"
        }
    },
    "nbformat": 4,
    "nbformat_minor": 1
}